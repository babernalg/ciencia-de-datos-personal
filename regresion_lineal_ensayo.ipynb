{
  "nbformat": 4,
  "nbformat_minor": 0,
  "metadata": {
    "colab": {
      "name": "regresion_lineal_ensayo.ipynb",
      "provenance": [],
      "authorship_tag": "ABX9TyPFfW1fosZtHA9ZrqDRBX5F",
      "include_colab_link": true
    },
    "kernelspec": {
      "name": "python3",
      "display_name": "Python 3"
    }
  },
  "cells": [
    {
      "cell_type": "markdown",
      "metadata": {
        "id": "view-in-github",
        "colab_type": "text"
      },
      "source": [
        "<a href=\"https://colab.research.google.com/github/babernalg/ciencia-de-datos-personal/blob/work_class/regresion_lineal_ensayo.ipynb\" target=\"_parent\"><img src=\"https://colab.research.google.com/assets/colab-badge.svg\" alt=\"Open In Colab\"/></a>"
      ]
    },
    {
      "cell_type": "markdown",
      "metadata": {
        "id": "yWKP_XimtqdS"
      },
      "source": [
        "## Regresión lineal"
      ]
    },
    {
      "cell_type": "markdown",
      "metadata": {
        "id": "4bXpYWgXt1pT"
      },
      "source": [
        "# Contenido \r\n",
        "\r\n",
        "1. Introducción.\r\n",
        "2. Breve historia.\r\n",
        "3. El planteamiento del algortimo.\r\n",
        "4. Desarrollar un ejemplo de regresión lineal, con datos reales.\r\n",
        "5. Conclusiones."
      ]
    },
    {
      "cell_type": "markdown",
      "metadata": {
        "id": "ZFSO0TPAt3zh"
      },
      "source": [
        "# Introducción\r\n",
        "\r\n"
      ]
    }
  ]
}