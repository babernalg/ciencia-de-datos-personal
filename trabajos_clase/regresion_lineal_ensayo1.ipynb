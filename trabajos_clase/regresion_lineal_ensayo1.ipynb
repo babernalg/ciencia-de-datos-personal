{
  "nbformat": 4,
  "nbformat_minor": 0,
  "metadata": {
    "colab": {
      "name": "regresion_lineal_ensayo1.ipynb",
      "provenance": [],
      "toc_visible": true
    },
    "kernelspec": {
      "name": "python3",
      "display_name": "Python 3"
    }
  },
  "cells": [
    {
      "cell_type": "markdown",
      "metadata": {
        "id": "yWKP_XimtqdS"
      },
      "source": [
        "## Regresión lineal"
      ]
    },
    {
      "cell_type": "markdown",
      "metadata": {
        "id": "oWrrz5dYbvO0"
      },
      "source": [
        "![Modelo de regresión lineal y sus errores](https://i.ytimg.com/vi/gfs5bp2j_bA/maxresdefault.jpg)\r\n"
      ]
    },
    {
      "cell_type": "markdown",
      "metadata": {
        "id": "4bXpYWgXt1pT"
      },
      "source": [
        "# Contenido \r\n",
        "\r\n",
        "1. Introducción.\r\n",
        "2. Breve historia.\r\n",
        "3. El planteamiento del algortimo.\r\n",
        "4. Ejemplo de regresión lineal, con datos reales.\r\n",
        "5. Conclusiones."
      ]
    },
    {
      "cell_type": "markdown",
      "metadata": {
        "id": "ZFSO0TPAt3zh"
      },
      "source": [
        "# Introducción\r\n",
        "\r\n",
        "El análisis de regresión es uno de los métodos estadísticos más usados para analizar relaciones entre variables, por esta razón estos métodos son usados muy a menudo para inferir sobre problaciones usando muestras representativas de dichas poblaciones que nos de una idea de lo que ocurre a nivel general. Este método de análisis tiene la característica de poseer una variable respuesta, la cual es explicada por variables independientes o predictoras que se cree tienen algún tipo de relación con la variable respuesta. Por lo regular, cuando se hace un estudio se plantea una hipótesis sobre la variable a investigar, luego se procede a observar las variables que se cree (Por parte del investigador)influyen en dicha variable respuesta, planteando asi un modelo de regresión adecuado que nos permita verificar cuales son  [*variables significativas*](http://www.ptolomeo.unam.mx:8080/xmlui/bitstream/handle/132.248.52.100/88/A9.pdf?sequence=9) y cuales no lo son, descartando asi aquellas variable que no son relevantes en el proceso. \r\n",
        "\r\n",
        "**NOTA:** Las variables predictoras deben ser independientes dos a dos.\r\n",
        "\r\n"
      ]
    },
    {
      "cell_type": "markdown",
      "metadata": {
        "id": "xCPk7HUmo1uy"
      },
      "source": [
        "# Historia\r\n",
        "\r\n",
        "Las ideas modernas sobre regresión se originan en el trabajo de Legendre y Gauss, sobre el método de mínimos cuadrados, para ajustar los datos sobre las órbitas de cuerpos celestes. El primer estudio documentado sobre el método de mínimos cuadrados, de donde deriva la idea de regresión, es\r\n",
        "debido a Legendre (1752-1833) en 1805. Esta técnica de optimización intenta encontrar la función (dentro de una familia) que mejor se ajusta a los datos bivariantes, de acuerdo con el criterio de mínimo error cuadrático, y siempre que los datos cumplan algunas condiciones (como independencia).\r\n",
        "Se conocían las ecuaciones funcionales de estas órbitas, pero los errores de medida hacía que los cálculos fuesen aproximados y se ajustaban ciertas familias de funciones, usando la teoría de errores (y la distribución normal para describirlos). En 1829 Gauss fue capaz de establecer la razón por la cual este procedimiento es muy adecuado desde el punto de vista estadístico, mediante lo que hoy se\r\n",
        "conoce como teorema de Gauss-Markov, que muestra que los estimadores obtenidos con este método son insesgados y no se requiere una distribución específica para los datos que se ajustan. El impulso posterior lo dan los trabajos citados de Galton y Pearson sobre la herencia. Yule la utiliza para el\r\n",
        "estudio de fenómenos sociales, como las causas de pobreza alrededor de 1899.\r\n",
        "\r\n",
        "A lo largo del siglo XIX el trabajo de los estadísticos era mayormente descriptivo; la inferencia estadística se va a desarrollar como consecuencia de la creación de la Escuela Biométrica del University College de Londres bajo la dirección del matemático Karl Pearson (1857-1936), quien trata de aportar bases matemáticas a los descubrimientos de Galton (Botasso, 2009). Pearson defiende que el método científico es esencialmente estadístico, pues sus inferencias se basan en la asociación entre antecedentes y consecuentes. \r\n",
        "Alrededor de 1895, Pearson había resuelto las propiedades matemáticas del coeficiente de correlación y la regresión simple utilizada para la predicción lineal entre dos\r\n",
        "variables continuas. También generaliza la idea de regresión de Galton a varias dimensiones, comprobando que muchas variables biométricas siguen la distribución normal multivariante y por tanto se podría aplicar la regresión múltiple para relacionar varias de estas medidas. Yule introduce la notación e ideas para la correlación parcial de dos variables fijando una tercera en un artículo “Sobre\r\n",
        "la teoría de la correlación para cualquier número de variables tratado mediante una nueva notación” publicado también en los Proceedings de la Royal Society en 1907. \r\n",
        "\r\n",
        "*Fuente:[Algunas notas históricas sobre la correlación y regresión y su uso en el aula](https://core.ac.uk/download/pdf/20343739.pdf)*\r\n"
      ]
    },
    {
      "cell_type": "markdown",
      "metadata": {
        "id": "_htww9Fno5P9"
      },
      "source": [
        "# Planteamiento del algoritmo\r\n",
        "$\\hspace{0.2cm}$\r\n",
        "\r\n",
        "**Planteamiento matemático**\r\n",
        "\r\n",
        "*Modelo de regresión*\r\n",
        "\r\n",
        "$Y_i=\\beta_0 + \\beta_{1i} X_{1i}+ \\beta_{2i} X_{2i}+...+ \\beta_{ki} X_{ki} + \\epsilon_i$\r\n",
        "\r\n",
        "Se tiene que $X_{1},X_{2},...,X_{k}$ son la variables independientes del modelo, estas explican a la variable $Y_i$. La variable respuesta $Y_i$ depende de las variables explicativas junto con un componente de error $\\epsilon_i$, el cual se distribuye con media cero y varianza constante.\r\n",
        "\r\n",
        "*Supuestos del modelo*\r\n",
        "\r\n",
        "*(i)*\t$E(\\epsilon_i)=0$ \r\n",
        "\r\n",
        "*(ii)* $E(\\epsilon_i^2)=\\sigma^2$\t\r\n",
        "\r\n",
        "*(iii)*\t$E(\\epsilon_{i}\\epsilon_{i'})=0$\r\n",
        "\r\n",
        "*(iv)*\t$\\epsilon_i$~ $N(0,\\sigma^2)$ \r\n",
        "\r\n",
        "*Ajuste del modelo*\r\n",
        "\r\n",
        "Para ajustar el modelo se realiza el método de [mínimos cuadrados](https://es.wikipedia.org/wiki/M%C3%ADnimos_cuadrados_ordinarios) o el de [máxima verosimilitud](https://es.wikipedia.org/wiki/M%C3%A1xima_verosimilitud). Estos métodos coinciden en la estimación de parametros del modelo, por lo cual queda a gusto del lector realizar el de su preferencia.\r\n",
        "\r\n",
        "Una vez se estiman los parámetros del modelo se pueden obtener estimaciones de la variable dependiente $Y_i$. Estas estimaciones tienen la siguiente forma.\r\n",
        "\r\n",
        "$\\hat{Y}_i=\\hat{\\beta}_0 + \\hat{\\beta}_{1i} X_{1i}+ \\hat{\\beta}_{2i} X_{2i}+...+ \\hat{\\beta}_{ki} X_{ki}$\r\n",
        "\r\n",
        "El error de cada estimación con respecto a la variable respuesta original es:\r\n",
        "\r\n",
        "$\\epsilon_i = Y_i - \\hat{Y}_i = Y_i - (\\hat{\\beta}_0 + \\hat{\\beta}_{1i} X_{1i}+ \\hat{\\beta}_{2i} X_{2i}+...+ \\hat{\\beta}_{ki} X_{ki})$\r\n",
        "\r\n",
        "donde $\\hat{\\beta_0},\\hat{\\beta_1},...,\\hat{\\beta_k}$ son los parámetros estimados del modelo. El criterio de mínimos cuadrados asigna a $\\hat{\\beta_0},\\hat{\\beta_1},...,\\hat{\\beta_k}$ valores que minimizan la suma de errores al cuadrado de todas las observaciones. \r\n",
        "\r\n",
        "\r\n",
        "*¿cuándo se usa el modelo de regresión?*\r\n",
        "\r\n",
        "*(i)*\tEstimación de valores de $Y$ fuera del rango muestral.\r\n",
        "\r\n",
        "*(ii)* Realizar predicción.\r\n",
        "\r\n",
        "En el siguiente gráfico, veamos que es lo que estamos ajustando. El ajuste que estamos realizando lo muestra el siguiente gráfico\r\n"
      ]
    },
    {
      "cell_type": "markdown",
      "metadata": {
        "id": "yrcomFBMo-ha"
      },
      "source": [
        "# Ejemplo "
      ]
    },
    {
      "cell_type": "markdown",
      "metadata": {
        "id": "OlgVHEIKFo-u"
      },
      "source": [
        "**Nota:** Se realizara un ejemplo con datos reales de una base de datos y otro con datos simulados.\r\n",
        "\r\n",
        "*[DESCARGAR DATOS REALES](https://github.com/DesafioLatam/act09-fds)*"
      ]
    },
    {
      "cell_type": "markdown",
      "metadata": {
        "id": "iF4Wi-KgF9yN"
      },
      "source": [
        "### Datos reales \r\n",
        "\r\n",
        "\r\n",
        "*Variables a utilizar*\r\n",
        "\r\n",
        "*Income:* Ingreso anual disponible en miles de dólares.\r\n",
        "\r\n",
        "*Balance:* Promedio de deuda en tarjeta de crédito de usuario.\r\n"
      ]
    },
    {
      "cell_type": "code",
      "metadata": {
        "id": "sBLCBchB_zGT",
        "colab": {
          "base_uri": "https://localhost:8080/"
        },
        "outputId": "f42c47fe-7cfc-4c17-9263-552187f013ed"
      },
      "source": [
        "from google.colab import drive \r\n",
        "drive.mount('/content/gdrive')\r\n"
      ],
      "execution_count": null,
      "outputs": [
        {
          "output_type": "stream",
          "text": [
            "Mounted at /content/gdrive\n"
          ],
          "name": "stdout"
        }
      ]
    },
    {
      "cell_type": "code",
      "metadata": {
        "colab": {
          "base_uri": "https://localhost:8080/"
        },
        "id": "_iCGqrxxz3H_",
        "outputId": "5ff7c82a-c9f4-43c4-d223-564f412fdd6b"
      },
      "source": [
        "import pandas as pd\r\n",
        "datos = pd.read_csv(\"gdrive/My Drive/Colab Notebooks/BD/Credit.csv\",sep=\";\")\r\n",
        "print(datos)\r\n",
        "print(datos.columns)\r\n",
        "\r\n"
      ],
      "execution_count": 43,
      "outputs": [
        {
          "output_type": "stream",
          "text": [
            "      Income  Limit  Rating  Cards  ...  Student  Married         Ethnicity Balance\n",
            "0     14.891   3606     283      2  ...       No      Yes         Caucasian     333\n",
            "1    106.025   6645     483      3  ...      Yes      Yes             Asian     903\n",
            "2    104.593   7075     514      4  ...       No       No             Asian     580\n",
            "3    148.924   9504     681      3  ...       No       No             Asian     964\n",
            "4     55.882   4897     357      2  ...       No      Yes         Caucasian     331\n",
            "..       ...    ...     ...    ...  ...      ...      ...               ...     ...\n",
            "395   12.096   4100     307      3  ...       No      Yes         Caucasian     560\n",
            "396   13.364   3838     296      5  ...       No       No  African American     480\n",
            "397   57.872   4171     321      5  ...       No      Yes         Caucasian     138\n",
            "398   37.728   2525     192      1  ...       No      Yes         Caucasian       0\n",
            "399   18.701   5524     415      5  ...       No       No             Asian     966\n",
            "\n",
            "[400 rows x 11 columns]\n",
            "Index(['Income', 'Limit', 'Rating', 'Cards', 'Age', 'Education', 'Gender',\n",
            "       'Student', 'Married', 'Ethnicity', 'Balance'],\n",
            "      dtype='object')\n"
          ],
          "name": "stdout"
        }
      ]
    },
    {
      "cell_type": "code",
      "metadata": {
        "colab": {
          "base_uri": "https://localhost:8080/",
          "height": 265
        },
        "id": "4c-MRfg3nuWb",
        "outputId": "e804449a-a275-447d-94be-ad2070a28b25"
      },
      "source": [
        "import numpy as np\r\n",
        "import random\r\n",
        "from sklearn import linear_model\r\n",
        "from sklearn.metrics import mean_squared_error, r2_score\r\n",
        "import matplotlib.pyplot as plt\r\n",
        "%matplotlib inline\r\n",
        "#datos['Education']\r\n",
        "\r\n",
        "x=datos['Income'].values\r\n",
        "y=datos['Balance'].values\r\n",
        "# Represento los datos generados\r\n",
        "\r\n",
        "plt.scatter(x, y)\r\n",
        "plt.show()\r\n"
      ],
      "execution_count": 84,
      "outputs": [
        {
          "output_type": "display_data",
          "data": {
            "image/png": "[encoded data removed]",
            "text/plain": [
              "<Figure size 432x288 with 1 Axes>"
            ]
          },
          "metadata": {
            "tags": [],
            "needs_background": "light"
          }
        }
      ]
    },
    {
      "cell_type": "code",
      "metadata": {
        "colab": {
          "base_uri": "https://localhost:8080/"
        },
        "id": "PM1b-6jQzYrp",
        "outputId": "b60c83f5-ad39-4bc5-927a-20f8cc1729a3"
      },
      "source": [
        "################################################\r\n",
        "\r\n",
        "# Creo un modelo de regresión lineal\r\n",
        "modelo = linear_model.LinearRegression()\r\n",
        "\r\n",
        "#\r\n",
        "x=x.reshape(-1,1)\r\n",
        "\r\n",
        "# Entreno el modelo con los datos (X,Y)\r\n",
        "modelo.fit(x, y)\r\n"
      ],
      "execution_count": 85,
      "outputs": [
        {
          "output_type": "execute_result",
          "data": {
            "text/plain": [
              "LinearRegression(copy_X=True, fit_intercept=True, n_jobs=None, normalize=False)"
            ]
          },
          "metadata": {
            "tags": []
          },
          "execution_count": 85
        }
      ]
    },
    {
      "cell_type": "code",
      "metadata": {
        "colab": {
          "base_uri": "https://localhost:8080/"
        },
        "id": "L9n50u3XBy59",
        "outputId": "36d03296-dc3a-4f87-c889-9feea6714511"
      },
      "source": [
        "# Ahora puedo obtener el coeficiente b_1\r\n",
        "print('Coeficiente beta1: \\n', modelo.coef_)\r\n",
        "# Este es el valor donde corta el eje Y (en X=0)\r\n",
        "print('Independent term: \\n', modelo.intercept_)\r\n",
        " \r\n",
        "# Podemos predecir usando el modelo\r\n",
        "y_pred = modelo.predict(x)\r\n",
        " \r\n",
        "# Por último, calculamos el error cuadrático medio y el estadístico R^2\r\n",
        "print ('Error cuadrático medio: %.2f' % mean_squared_error(y, y_pred))\r\n",
        "print ('Estadístico R_2: %.2f' % r2_score(y, y_pred))\r\n"
      ],
      "execution_count": 90,
      "outputs": [
        {
          "output_type": "stream",
          "text": [
            "Coeficiente beta1: \n",
            " [6.04836341]\n",
            "Independent term: \n",
            " 246.5147505914033\n",
            "Error cuadrático medio: 165521.86\n",
            "Estadístico R_2: 0.21\n"
          ],
          "name": "stdout"
        }
      ]
    },
    {
      "cell_type": "code",
      "metadata": {
        "colab": {
          "base_uri": "https://localhost:8080/",
          "height": 265
        },
        "id": "rLzSwyrcE-B6",
        "outputId": "a3803831-c189-4631-bc62-8550f55310f7"
      },
      "source": [
        "# Representamos el ajuste (amarillo) \r\n",
        "plt.scatter(x, y)\r\n",
        "plt.plot(x, y_pred, color='yellow')\r\n",
        "plt.show()"
      ],
      "execution_count": 91,
      "outputs": [
        {
          "output_type": "display_data",
          "data": {
            "image/png": "[encoded data removed]",
            "text/plain": [
              "<Figure size 432x288 with 1 Axes>"
            ]
          },
          "metadata": {
            "tags": [],
            "needs_background": "light"
          }
        }
      ]
    },
    {
      "cell_type": "markdown",
      "metadata": {
        "id": "t0uGmp7aHZfi"
      },
      "source": [
        "## Datos simulados"
      ]
    },
    {
      "cell_type": "markdown",
      "metadata": {
        "id": "E2XkMxb0HfjK"
      },
      "source": [
        "Con este primer código simulamos los datos."
      ]
    },
    {
      "cell_type": "code",
      "metadata": {
        "colab": {
          "base_uri": "https://localhost:8080/",
          "height": 266
        },
        "id": "2E1BAPFaK0Fk",
        "outputId": "6a371df5-d17f-4169-f2af-f9c2b547dd22"
      },
      "source": [
        "import numpy as np\r\n",
        "import random\r\n",
        "from sklearn import linear_model\r\n",
        "from sklearn.metrics import mean_squared_error, r2_score\r\n",
        "import matplotlib.pyplot as plt\r\n",
        "%matplotlib inline\r\n",
        " \r\n",
        "# Generador de distribución de datos para regresión lineal simple\r\n",
        "def generador_datos_simple(beta, muestras, desviacion):\r\n",
        "  x = np.random.random(muestras) *100\r\n",
        "  e = np.random.randn(muestras) * desviacion\r\n",
        "  y = x * beta + e\r\n",
        "  return x.reshape((muestras,1)), y.reshape((muestras,1))\r\n",
        " \r\n",
        "# Parámetros de la distribución\r\n",
        "desviacion = 200\r\n",
        "beta = 10\r\n",
        "n = 50\r\n",
        "x, y = generador_datos_simple(beta, n, desviacion)\r\n",
        " \r\n",
        "# Represento los datos generados\r\n",
        "plt.scatter(x, y)\r\n",
        "plt.show()\r\n",
        "\r\n",
        "\r\n",
        "\r\n"
      ],
      "execution_count": 52,
      "outputs": [
        {
          "output_type": "display_data",
          "data": {
            "image/png": "[encoded data removed]",
            "text/plain": [
              "<Figure size 432x288 with 1 Axes>"
            ]
          },
          "metadata": {
            "tags": [],
            "needs_background": "light"
          }
        }
      ]
    },
    {
      "cell_type": "code",
      "metadata": {
        "colab": {
          "base_uri": "https://localhost:8080/"
        },
        "id": "qTHil_vHNQOT",
        "outputId": "aacd21ec-dfcb-4cac-8090-d85e63dea893"
      },
      "source": [
        "################################################\r\n",
        "# Creo un modelo de regresión lineal\r\n",
        "modelo = linear_model.LinearRegression()\r\n",
        " \r\n",
        "# Entreno el modelo con los datos (X,Y)\r\n",
        "modelo.fit(x, y)\r\n",
        "# Ahora puedo obtener el coeficiente b_1\r\n",
        "print('Coeficiente beta1: ', modelo.coef_)\r\n",
        " \r\n",
        "# Podemos predecir usando el modelo\r\n",
        "y_pred = modelo.predict(x)\r\n",
        " \r\n",
        "# Por último, calculamos el error cuadrático medio y el estadístico R^2\r\n",
        "print ('Error cuadrático medio: %.2f' % mean_squared_error(y, y_pred))\r\n",
        "print ('Estadístico R_2: %.2f' % r2_score(y, y_pred))\r\n",
        "\r\n",
        "\r\n",
        "####################################################################"
      ],
      "execution_count": 65,
      "outputs": [
        {
          "output_type": "stream",
          "text": [
            "Coeficiente beta1:  [[1.]]\n",
            "Error cuadrático medio: 0.00\n",
            "Estadístico R_2: 1.00\n"
          ],
          "name": "stdout"
        }
      ]
    },
    {
      "cell_type": "code",
      "metadata": {
        "colab": {
          "base_uri": "https://localhost:8080/",
          "height": 265
        },
        "id": "HxVp4pHUOyp4",
        "outputId": "05258564-012b-4a64-eb07-dcc53dd01450"
      },
      "source": [
        "# Representamos el ajuste (amarillo) y la recta Y = beta*x (verde)\r\n",
        "plt.scatter(x, y)\r\n",
        "plt.plot(x, y_pred, color='yellow')\r\n",
        "x_real = np.array([0, 100])\r\n",
        "y_real = x_real*beta\r\n",
        "plt.plot(x_real, y_real, color='green')\r\n",
        "plt.show()\r\n"
      ],
      "execution_count": 87,
      "outputs": [
        {
          "output_type": "display_data",
          "data": {
            "image/png": "[encoded data removed]",
            "text/plain": [
              "<Figure size 432x288 with 1 Axes>"
            ]
          },
          "metadata": {
            "tags": [],
            "needs_background": "light"
          }
        }
      ]
    },
    {
      "cell_type": "markdown",
      "metadata": {
        "id": "cQXyfteppB7k"
      },
      "source": [
        "# Conclusiones"
      ]
    },
    {
      "cell_type": "markdown",
      "metadata": {
        "id": "b8_lKE0LpFwG"
      },
      "source": [
        "El análisis de regresión es una de las mejores técnicas para analizar relaciones entre variables. En este documento se expreso el modelo general (multivariado) de regresión lineal con la intención de ampliar la curiosidad del lector, este modelo puede usarse con variables cualitativas expresadas como variables dummy, por lo cual nos brinda una amplia posibilidad sin discriminar entre variables cualitativas y cuantitativas. \r\n",
        "\r\n",
        "Es importante en este modelo el cumplimiento de los supuestos, esto debido a que la inferencia respecto a los datos que nos da el modelo tiene soporte en la distribución normal, por lo cual si no se da cumplimiento a los supuestos la inferencia no tiene sentido. \r\n",
        "\r\n",
        "*Nota: los datos deben tener un comportamiento normal, en caso de no cumplirse, lo indicado es hacer una transformación sobre los datos que nos permita obtener normalidad. Si la transformación no ayuda deberiamos extendernos a modelos lineales generalizados*\r\n"
      ]
    }
  ]
}